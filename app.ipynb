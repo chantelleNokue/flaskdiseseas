{
 "cells": [
  {
   "cell_type": "code",
   "execution_count": 1,
   "id": "a382916c",
   "metadata": {},
   "outputs": [
    {
     "name": "stdout",
     "output_type": "stream",
     "text": [
      "Defaulting to user installation because normal site-packages is not writeable\n",
      "Requirement already satisfied: numpy in /home/vincent/.local/lib/python3.10/site-packages (1.26.4)\n",
      "Requirement already satisfied: tensorflow in /home/vincent/.local/lib/python3.10/site-packages (2.16.1)\n",
      "Requirement already satisfied: pathlib in /home/vincent/.local/lib/python3.10/site-packages (1.0.1)\n",
      "Requirement already satisfied: wget in /home/vincent/.local/lib/python3.10/site-packages (3.2)\n",
      "Requirement already satisfied: Flask in /home/vincent/.local/lib/python3.10/site-packages (3.0.3)\n",
      "Requirement already satisfied: Werkzeug in /home/vincent/.local/lib/python3.10/site-packages (3.0.2)\n",
      "Requirement already satisfied: setuptools in /usr/lib/python3/dist-packages (from tensorflow) (59.6.0)\n",
      "Requirement already satisfied: grpcio<2.0,>=1.24.3 in /home/vincent/.local/lib/python3.10/site-packages (from tensorflow) (1.62.1)\n",
      "Requirement already satisfied: h5py>=3.10.0 in /home/vincent/.local/lib/python3.10/site-packages (from tensorflow) (3.11.0)\n",
      "Requirement already satisfied: termcolor>=1.1.0 in /home/vincent/.local/lib/python3.10/site-packages (from tensorflow) (2.4.0)\n",
      "Requirement already satisfied: opt-einsum>=2.3.2 in /home/vincent/.local/lib/python3.10/site-packages (from tensorflow) (3.3.0)\n",
      "Requirement already satisfied: tensorboard<2.17,>=2.16 in /home/vincent/.local/lib/python3.10/site-packages (from tensorflow) (2.16.2)\n",
      "Requirement already satisfied: protobuf!=4.21.0,!=4.21.1,!=4.21.2,!=4.21.3,!=4.21.4,!=4.21.5,<5.0.0dev,>=3.20.3 in /home/vincent/.local/lib/python3.10/site-packages (from tensorflow) (4.25.3)\n",
      "Requirement already satisfied: astunparse>=1.6.0 in /home/vincent/.local/lib/python3.10/site-packages (from tensorflow) (1.6.3)\n",
      "Requirement already satisfied: six>=1.12.0 in /usr/lib/python3/dist-packages (from tensorflow) (1.16.0)\n",
      "Requirement already satisfied: google-pasta>=0.1.1 in /home/vincent/.local/lib/python3.10/site-packages (from tensorflow) (0.2.0)\n",
      "Requirement already satisfied: gast!=0.5.0,!=0.5.1,!=0.5.2,>=0.2.1 in /home/vincent/.local/lib/python3.10/site-packages (from tensorflow) (0.5.4)\n",
      "Requirement already satisfied: flatbuffers>=23.5.26 in /home/vincent/.local/lib/python3.10/site-packages (from tensorflow) (24.3.25)\n",
      "Requirement already satisfied: ml-dtypes~=0.3.1 in /home/vincent/.local/lib/python3.10/site-packages (from tensorflow) (0.3.2)\n",
      "Requirement already satisfied: libclang>=13.0.0 in /home/vincent/.local/lib/python3.10/site-packages (from tensorflow) (18.1.1)\n",
      "Requirement already satisfied: tensorflow-io-gcs-filesystem>=0.23.1 in /home/vincent/.local/lib/python3.10/site-packages (from tensorflow) (0.36.0)\n",
      "Requirement already satisfied: absl-py>=1.0.0 in /home/vincent/.local/lib/python3.10/site-packages (from tensorflow) (2.1.0)\n",
      "Requirement already satisfied: typing-extensions>=3.6.6 in /home/vincent/.local/lib/python3.10/site-packages (from tensorflow) (4.10.0)\n",
      "Requirement already satisfied: keras>=3.0.0 in /home/vincent/.local/lib/python3.10/site-packages (from tensorflow) (3.2.1)\n",
      "Requirement already satisfied: packaging in /home/vincent/.local/lib/python3.10/site-packages (from tensorflow) (23.2)\n",
      "Requirement already satisfied: wrapt>=1.11.0 in /home/vincent/.local/lib/python3.10/site-packages (from tensorflow) (1.16.0)\n",
      "Requirement already satisfied: requests<3,>=2.21.0 in /home/vincent/.local/lib/python3.10/site-packages (from tensorflow) (2.31.0)\n",
      "Requirement already satisfied: click>=8.1.3 in /home/vincent/.local/lib/python3.10/site-packages (from Flask) (8.1.7)\n",
      "Requirement already satisfied: itsdangerous>=2.1.2 in /home/vincent/.local/lib/python3.10/site-packages (from Flask) (2.1.2)\n",
      "Requirement already satisfied: Jinja2>=3.1.2 in /home/vincent/.local/lib/python3.10/site-packages (from Flask) (3.1.3)\n",
      "Requirement already satisfied: blinker>=1.6.2 in /home/vincent/.local/lib/python3.10/site-packages (from Flask) (1.7.0)\n",
      "Requirement already satisfied: MarkupSafe>=2.1.1 in /home/vincent/.local/lib/python3.10/site-packages (from Werkzeug) (2.1.5)\n",
      "Requirement already satisfied: wheel<1.0,>=0.23.0 in /usr/lib/python3/dist-packages (from astunparse>=1.6.0->tensorflow) (0.37.1)\n",
      "Requirement already satisfied: namex in /home/vincent/.local/lib/python3.10/site-packages (from keras>=3.0.0->tensorflow) (0.0.7)\n",
      "Requirement already satisfied: optree in /home/vincent/.local/lib/python3.10/site-packages (from keras>=3.0.0->tensorflow) (0.11.0)\n",
      "Requirement already satisfied: rich in /home/vincent/.local/lib/python3.10/site-packages (from keras>=3.0.0->tensorflow) (13.7.1)\n",
      "Requirement already satisfied: certifi>=2017.4.17 in /usr/lib/python3/dist-packages (from requests<3,>=2.21.0->tensorflow) (2020.6.20)\n",
      "Requirement already satisfied: idna<4,>=2.5 in /usr/lib/python3/dist-packages (from requests<3,>=2.21.0->tensorflow) (3.3)\n",
      "Requirement already satisfied: urllib3<3,>=1.21.1 in /usr/lib/python3/dist-packages (from requests<3,>=2.21.0->tensorflow) (1.26.5)\n",
      "Requirement already satisfied: charset-normalizer<4,>=2 in /home/vincent/.local/lib/python3.10/site-packages (from requests<3,>=2.21.0->tensorflow) (3.3.2)\n",
      "Requirement already satisfied: markdown>=2.6.8 in /home/vincent/.local/lib/python3.10/site-packages (from tensorboard<2.17,>=2.16->tensorflow) (3.6)\n",
      "Requirement already satisfied: tensorboard-data-server<0.8.0,>=0.7.0 in /home/vincent/.local/lib/python3.10/site-packages (from tensorboard<2.17,>=2.16->tensorflow) (0.7.2)\n",
      "Requirement already satisfied: markdown-it-py>=2.2.0 in /home/vincent/.local/lib/python3.10/site-packages (from rich->keras>=3.0.0->tensorflow) (3.0.0)\n",
      "Requirement already satisfied: pygments<3.0.0,>=2.13.0 in /home/vincent/.local/lib/python3.10/site-packages (from rich->keras>=3.0.0->tensorflow) (2.17.2)\n",
      "Requirement already satisfied: mdurl~=0.1 in /home/vincent/.local/lib/python3.10/site-packages (from markdown-it-py>=2.2.0->rich->keras>=3.0.0->tensorflow) (0.1.2)\n",
      "Defaulting to user installation because normal site-packages is not writeable\n",
      "Requirement already satisfied: flask_cors in /home/vincent/.local/lib/python3.10/site-packages (4.0.0)\n",
      "Requirement already satisfied: Flask>=0.9 in /home/vincent/.local/lib/python3.10/site-packages (from flask_cors) (3.0.3)\n",
      "Requirement already satisfied: click>=8.1.3 in /home/vincent/.local/lib/python3.10/site-packages (from Flask>=0.9->flask_cors) (8.1.7)\n",
      "Requirement already satisfied: Jinja2>=3.1.2 in /home/vincent/.local/lib/python3.10/site-packages (from Flask>=0.9->flask_cors) (3.1.3)\n",
      "Requirement already satisfied: itsdangerous>=2.1.2 in /home/vincent/.local/lib/python3.10/site-packages (from Flask>=0.9->flask_cors) (2.1.2)\n",
      "Requirement already satisfied: blinker>=1.6.2 in /home/vincent/.local/lib/python3.10/site-packages (from Flask>=0.9->flask_cors) (1.7.0)\n",
      "Requirement already satisfied: Werkzeug>=3.0.0 in /home/vincent/.local/lib/python3.10/site-packages (from Flask>=0.9->flask_cors) (3.0.2)\n",
      "Requirement already satisfied: MarkupSafe>=2.0 in /home/vincent/.local/lib/python3.10/site-packages (from Jinja2>=3.1.2->Flask>=0.9->flask_cors) (2.1.5)\n"
     ]
    }
   ],
   "source": [
    "!pip install numpy tensorflow pathlib wget Flask Werkzeug\n",
    "!pip install flask_cors\n",
    "\n"
   ]
  },
  {
   "cell_type": "code",
   "execution_count": null,
   "id": "d81a29f9",
   "metadata": {},
   "outputs": [
    {
     "name": "stderr",
     "output_type": "stream",
     "text": [
      "2024-04-16 14:14:54.344410: I external/local_tsl/tsl/cuda/cudart_stub.cc:32] Could not find cuda drivers on your machine, GPU will not be used.\n",
      "2024-04-16 14:14:54.582117: I external/local_tsl/tsl/cuda/cudart_stub.cc:32] Could not find cuda drivers on your machine, GPU will not be used.\n",
      "2024-04-16 14:14:55.570887: I tensorflow/core/platform/cpu_feature_guard.cc:210] This TensorFlow binary is optimized to use available CPU instructions in performance-critical operations.\n",
      "To enable the following instructions: AVX2 FMA, in other operations, rebuild TensorFlow with the appropriate compiler flags.\n",
      "2024-04-16 14:14:58.418732: W tensorflow/compiler/tf2tensorrt/utils/py_utils.cc:38] TF-TRT Warning: Could not find TensorRT\n"
     ]
    },
    {
     "name": "stdout",
     "output_type": "stream",
     "text": [
      " * Serving Flask app '__main__'\n",
      " * Debug mode: off\n"
     ]
    },
    {
     "name": "stderr",
     "output_type": "stream",
     "text": [
      "WARNING: This is a development server. Do not use it in a production deployment. Use a production WSGI server instead.\n",
      " * Running on http://127.0.0.1:5080\n",
      "Press CTRL+C to quit\n"
     ]
    },
    {
     "name": "stdout",
     "output_type": "stream",
     "text": [
      "Loading model from: /home/vincent/Desktop/mobile projects/apple disease detector/fruit disease/fruit_disease_model.hdf5\n"
     ]
    },
    {
     "name": "stderr",
     "output_type": "stream",
     "text": [
      "/home/vincent/.local/lib/python3.10/site-packages/keras/src/layers/convolutional/base_conv.py:99: UserWarning: Do not pass an `input_shape`/`input_dim` argument to a layer. When using Sequential models, prefer using an `Input(shape)` object as the first layer in the model instead.\n",
      "  super().__init__(\n",
      "WARNING:absl:Compiled the loaded model, but the compiled metrics have yet to be built. `model.compile_metrics` will be empty until you train or evaluate the model.\n",
      "WARNING:absl:Error in loading the saved optimizer state. As a result, your model is starting with a freshly initialized optimizer.\n"
     ]
    },
    {
     "name": "stdout",
     "output_type": "stream",
     "text": [
      "Model loaded successfully.\n",
      "\u001b[1m1/1\u001b[0m \u001b[32m━━━━━━━━━━━━━━━━━━━━\u001b[0m\u001b[37m\u001b[0m \u001b[1m0s\u001b[0m 328ms/step\n"
     ]
    },
    {
     "name": "stderr",
     "output_type": "stream",
     "text": [
      "127.0.0.1 - - [16/Apr/2024 15:49:19] \"POST /detect HTTP/1.1\" 200 -\n",
      "INFO:werkzeug:127.0.0.1 - - [16/Apr/2024 15:49:19] \"POST /detect HTTP/1.1\" 200 -\n"
     ]
    },
    {
     "name": "stdout",
     "output_type": "stream",
     "text": [
      "Raw Predictions: [[0.45555717 0.02409495 0.14399196 0.37635598]]\n",
      "Argmax Predictions: [0]\n"
     ]
    }
   ],
   "source": [
    "from __future__ import division, print_function\n",
    "import os\n",
    "import numpy as np\n",
    "import tensorflow as tf\n",
    "from tensorflow.keras.models import load_model\n",
    "from tensorflow.keras.preprocessing import image\n",
    "from flask import Flask, request, jsonify\n",
    "from werkzeug.utils import secure_filename\n",
    "from flask_cors import CORS \n",
    "import imghdr \n",
    "\n",
    "MODEL_PATH = '/home/vincent/Desktop/mobile projects/apple disease detector/fruit disease/fruit_disease_model.hdf5' \n",
    "UPLOAD_FOLDER = os.path.join(os.path.expanduser(\"~\"), \"Desktop\", \"mobile projects\", \"images\")\n",
    "\n",
    "if not os.path.isfile(MODEL_PATH):\n",
    "    print(f\"Model file {MODEL_PATH} not found.\")\n",
    "    exit()\n",
    "\n",
    "app = Flask(__name__)\n",
    "app.config['UPLOAD_FOLDER'] = UPLOAD_FOLDER\n",
    "CORS(app)\n",
    "\n",
    "def model_predict(img_path):\n",
    "    print(\"Loading model from:\", MODEL_PATH)\n",
    "    model = load_model(MODEL_PATH)\n",
    "    print(\"Model loaded successfully.\")\n",
    "    img = image.load_img(img_path, target_size=(256, 256)) \n",
    "    x = image.img_to_array(img)\n",
    "    x = x / 255.0 \n",
    "    x = np.expand_dims(x, axis=0)\n",
    "    preds = model.predict(x)\n",
    "    print(\"Raw Predictions:\", preds)\n",
    "    preds = np.argmax(preds, axis=1)\n",
    "    print(\"Argmax Predictions:\", preds) \n",
    "    return preds\n",
    "\n",
    "@app.route('/detect', methods=['POST'])\n",
    "def index():\n",
    "    if 'image' not in request.files:\n",
    "        return jsonify({'error': 'No image file uploaded'})\n",
    "\n",
    "    f = request.files['image']\n",
    "    if f.filename == '':\n",
    "        return jsonify({'error': 'No selected file'})\n",
    "    \n",
    "    if imghdr.what(f) not in ['jpeg', 'png', 'gif', 'bmp']:\n",
    "        return jsonify({'error': 'Invalid image file'})\n",
    "\n",
    "    file_path = os.path.join(app.config['UPLOAD_FOLDER'], secure_filename(f.filename))\n",
    "    f.save(file_path)\n",
    "    \n",
    "    preds = model_predict(file_path)\n",
    "    pred_class = preds[0]\n",
    "\n",
    "    if pred_class == 0:\n",
    "        result = \"The fruit has multiple diseases.\"\n",
    "        recommendation = \"Consider applying appropriate fungicides and pesticides.\"\n",
    "    elif pred_class == 1:\n",
    "        result = \"The fruit is healthy.\"\n",
    "        recommendation = \"Continue regular care and maintenance to keep the fruit healthy.\"\n",
    "    elif pred_class == 2:\n",
    "        result = \"The fruit has rust.\"\n",
    "        recommendation = \"Apply suitable fungicides and remove infected leaves to prevent spreading.\"\n",
    "    elif pred_class == 3:\n",
    "        result = \"The fruit has scab.\"\n",
    "        recommendation = \"Implement proper pruning and sanitation practices to manage the disease.\"\n",
    "    else:  \n",
    "        result = \"Opps something went wrong.\"\n",
    "        recommendation = \"You can try to upload a different image.\"\n",
    "\n",
    "\n",
    "    return jsonify({'result': result, 'recommendation': recommendation})\n",
    "\n",
    "if __name__ == '__main__':\n",
    "    app.run(port=5080)\n"
   ]
  },
  {
   "cell_type": "code",
   "execution_count": null,
   "id": "f61a4f6f",
   "metadata": {},
   "outputs": [],
   "source": []
  }
 ],
 "metadata": {
  "kernelspec": {
   "display_name": "Python 3 (ipykernel)",
   "language": "python",
   "name": "python3"
  },
  "language_info": {
   "codemirror_mode": {
    "name": "ipython",
    "version": 3
   },
   "file_extension": ".py",
   "mimetype": "text/x-python",
   "name": "python",
   "nbconvert_exporter": "python",
   "pygments_lexer": "ipython3",
   "version": "3.10.12"
  }
 },
 "nbformat": 4,
 "nbformat_minor": 5
}
