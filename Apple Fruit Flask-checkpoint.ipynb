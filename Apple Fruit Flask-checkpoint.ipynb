{
 "cells": [
  {
   "cell_type": "code",
   "execution_count": 1,
   "id": "a382916c",
   "metadata": {},
   "outputs": [],
   "source": [
    "#!pip install numpy tensorflow pathlib wget Flask Werkzeug\n",
    "#!pip install flask_cors\n",
    "\n"
   ]
  },
  {
   "cell_type": "code",
   "execution_count": null,
   "id": "d81a29f9",
   "metadata": {},
   "outputs": [
    {
     "name": "stderr",
     "output_type": "stream",
     "text": [
      "2024-04-12 19:10:47.241936: I external/local_tsl/tsl/cuda/cudart_stub.cc:31] Could not find cuda drivers on your machine, GPU will not be used.\n",
      "2024-04-12 19:10:47.282900: E external/local_xla/xla/stream_executor/cuda/cuda_dnn.cc:9261] Unable to register cuDNN factory: Attempting to register factory for plugin cuDNN when one has already been registered\n",
      "2024-04-12 19:10:47.282927: E external/local_xla/xla/stream_executor/cuda/cuda_fft.cc:607] Unable to register cuFFT factory: Attempting to register factory for plugin cuFFT when one has already been registered\n",
      "2024-04-12 19:10:47.284057: E external/local_xla/xla/stream_executor/cuda/cuda_blas.cc:1515] Unable to register cuBLAS factory: Attempting to register factory for plugin cuBLAS when one has already been registered\n",
      "2024-04-12 19:10:47.290294: I external/local_tsl/tsl/cuda/cudart_stub.cc:31] Could not find cuda drivers on your machine, GPU will not be used.\n",
      "2024-04-12 19:10:47.290903: I tensorflow/core/platform/cpu_feature_guard.cc:182] This TensorFlow binary is optimized to use available CPU instructions in performance-critical operations.\n",
      "To enable the following instructions: AVX2 FMA, in other operations, rebuild TensorFlow with the appropriate compiler flags.\n",
      "2024-04-12 19:10:48.230592: W tensorflow/compiler/tf2tensorrt/utils/py_utils.cc:38] TF-TRT Warning: Could not find TensorRT\n"
     ]
    },
    {
     "name": "stdout",
     "output_type": "stream",
     "text": [
      " * Serving Flask app '__main__'\n",
      " * Debug mode: off\n"
     ]
    },
    {
     "name": "stderr",
     "output_type": "stream",
     "text": [
      "/tmp/ipykernel_49009/998373340.py:10: DeprecationWarning: 'imghdr' is deprecated and slated for removal in Python 3.13\n",
      "  import imghdr\n",
      "WARNING: This is a development server. Do not use it in a production deployment. Use a production WSGI server instead.\n",
      " * Running on http://127.0.0.1:5080\n",
      "Press CTRL+C to quit\n"
     ]
    },
    {
     "name": "stdout",
     "output_type": "stream",
     "text": [
      "Loading model from: /home/panashekaribu/Desktop/mobile projects/apple disease detector/apple_disease_prediction/notebooks/fruit_disease_model.hdf5\n",
      "Model loaded successfully.\n",
      "1/1 [==============================] - 0s 199ms/step\n"
     ]
    },
    {
     "name": "stderr",
     "output_type": "stream",
     "text": [
      "127.0.0.1 - - [12/Apr/2024 19:10:55] \"POST /detect HTTP/1.1\" 200 -\n"
     ]
    },
    {
     "name": "stdout",
     "output_type": "stream",
     "text": [
      "Raw Predictions: [[0.05392036 0.9077707  0.01553483 0.02277407]]\n",
      "Argmax Predictions: [1]\n"
     ]
    }
   ],
   "source": [
    "from __future__ import division, print_function\n",
    "import os\n",
    "import numpy as np\n",
    "import tensorflow as tf\n",
    "from tensorflow.keras.models import load_model\n",
    "from tensorflow.keras.preprocessing import image\n",
    "from flask import Flask, request, jsonify\n",
    "from werkzeug.utils import secure_filename\n",
    "from flask_cors import CORS \n",
    "import imghdr \n",
    "\n",
    "MODEL_PATH = '/home/panashekaribu/Desktop/mobile projects/apple disease detector/apple_disease_prediction/notebooks/fruit_disease_model.hdf5' \n",
    "UPLOAD_FOLDER = os.path.join(os.path.expanduser(\"~\"), \"Desktop\", \"mobile projects\", \"images\")\n",
    "\n",
    "if not os.path.isfile(MODEL_PATH):\n",
    "    print(f\"Model file {MODEL_PATH} not found.\")\n",
    "    exit()\n",
    "\n",
    "app = Flask(__name__)\n",
    "app.config['UPLOAD_FOLDER'] = UPLOAD_FOLDER\n",
    "CORS(app)\n",
    "\n",
    "def model_predict(img_path):\n",
    "    print(\"Loading model from:\", MODEL_PATH)\n",
    "    model = load_model(MODEL_PATH)\n",
    "    print(\"Model loaded successfully.\")\n",
    "    img = image.load_img(img_path, target_size=(256, 256)) \n",
    "    x = image.img_to_array(img)\n",
    "    x = x / 255.0 \n",
    "    x = np.expand_dims(x, axis=0)\n",
    "    preds = model.predict(x)\n",
    "    print(\"Raw Predictions:\", preds)\n",
    "    preds = np.argmax(preds, axis=1)\n",
    "    print(\"Argmax Predictions:\", preds) \n",
    "    return preds\n",
    "\n",
    "@app.route('/detect', methods=['POST'])\n",
    "def index():\n",
    "    if 'image' not in request.files:\n",
    "        return jsonify({'error': 'No image file uploaded'})\n",
    "\n",
    "    f = request.files['image']\n",
    "    if f.filename == '':\n",
    "        return jsonify({'error': 'No selected file'})\n",
    "    \n",
    "    if imghdr.what(f) not in ['jpeg', 'png', 'gif', 'bmp']:\n",
    "        return jsonify({'error': 'Invalid image file'})\n",
    "\n",
    "    file_path = os.path.join(app.config['UPLOAD_FOLDER'], secure_filename(f.filename))\n",
    "    f.save(file_path)\n",
    "    \n",
    "    preds = model_predict(file_path)\n",
    "    pred_class = preds[0]\n",
    "\n",
    "    if pred_class == 0:\n",
    "        result = \"The fruit has multiple diseases.\"\n",
    "        recommendation = \"Consider applying appropriate fungicides and pesticides.\"\n",
    "    elif pred_class == 1:\n",
    "        result = \"The fruit is healthy.\"\n",
    "        recommendation = \"Continue regular care and maintenance to keep the fruit healthy.\"\n",
    "    elif pred_class == 2:\n",
    "        result = \"The fruit has rust.\"\n",
    "        recommendation = \"Apply suitable fungicides and remove infected leaves to prevent spreading.\"\n",
    "    elif pred_class == 3:\n",
    "        result = \"The fruit has scab.\"\n",
    "        recommendation = \"Implement proper pruning and sanitation practices to manage the disease.\"\n",
    "    else:  \n",
    "        result = \"Opps something went wrong.\"\n",
    "        recommendation = \"You can try to upload a different image.\"\n",
    "\n",
    "\n",
    "    return jsonify({'result': result, 'recommendation': recommendation})\n",
    "\n",
    "if __name__ == '__main__':\n",
    "    app.run(port=5080)\n"
   ]
  },
  {
   "cell_type": "code",
   "execution_count": null,
   "id": "f61a4f6f",
   "metadata": {},
   "outputs": [],
   "source": []
  }
 ],
 "metadata": {
  "kernelspec": {
   "display_name": "Python 3 (ipykernel)",
   "language": "python",
   "name": "python3"
  },
  "language_info": {
   "codemirror_mode": {
    "name": "ipython",
    "version": 3
   },
   "file_extension": ".py",
   "mimetype": "text/x-python",
   "name": "python",
   "nbconvert_exporter": "python",
   "pygments_lexer": "ipython3",
   "version": "3.11.4"
  }
 },
 "nbformat": 4,
 "nbformat_minor": 5
}
